{
 "cells": [
  {
   "cell_type": "markdown",
   "metadata": {},
   "source": [
    "# 딕셔너리(dict)\n",
    " - 중괄호{ }로 묶여 있으며, key와 value의 쌍으로 이루어짐. \n",
    " - d = {key1:value1, key2:value2}\n",
    "## 실습1)\n",
    " - for 문을 사용하여 딕셔너리 타입의 d의 모든 value를 출력해 보시오."
   ]
  },
  {
   "cell_type": "code",
   "execution_count": 1,
   "metadata": {},
   "outputs": [
    {
     "name": "stdout",
     "output_type": "stream",
     "text": [
      "1 2 10 "
     ]
    }
   ],
   "source": [
    "d = {'youn': 1, 'park': 2, 'kim': 10}\n",
    "for i in d.values():\n",
    "    print(i,end=' ')"
   ]
  },
  {
   "cell_type": "markdown",
   "metadata": {},
   "source": [
    "## 실습2)\n",
    " - key의 알파벳을 기준으로 순서대로 아래와 같이 (key, value)로 출력하시오."
   ]
  },
  {
   "cell_type": "code",
   "execution_count": 6,
   "metadata": {},
   "outputs": [
    {
     "name": "stdout",
     "output_type": "stream",
     "text": [
      "five 5\n",
      "four 4\n",
      "one 1\n",
      "three 3\n",
      "two 2\n"
     ]
    }
   ],
   "source": [
    "d = { 'one':1, 'two':2, 'three':3, 'four':4, 'five':5}\n",
    "\n",
    "li = sorted(d)\n",
    "li\n",
    "\n",
    "for i in li:\n",
    "    print(i, d[i])"
   ]
  },
  {
   "cell_type": "markdown",
   "metadata": {},
   "source": [
    "## 실습3)\n",
    " - 어떤 문장을 입력 받으면 해당 문장에서 각 알파벳이 몇 개씩 나오는지 저장하는 딕셔너리를 만든 후, 아래와 같이 출력하시오."
   ]
  },
  {
   "cell_type": "code",
   "execution_count": 8,
   "metadata": {},
   "outputs": [
    {
     "name": "stdout",
     "output_type": "stream",
     "text": [
      "Enter a sentence: Python is fun!\n"
     ]
    },
    {
     "data": {
      "text/plain": [
       "{'n': 2,\n",
       " 't': 1,\n",
       " 'o': 1,\n",
       " 'P': 1,\n",
       " 'f': 1,\n",
       " ' ': 2,\n",
       " 'y': 1,\n",
       " 'u': 1,\n",
       " 'h': 1,\n",
       " 'i': 1,\n",
       " 's': 1,\n",
       " '!': 1}"
      ]
     },
     "execution_count": 8,
     "metadata": {},
     "output_type": "execute_result"
    }
   ],
   "source": [
    "sent = input(\"Enter a sentence: \")\n",
    "d = {}\n",
    "\n",
    "for i in set(sent):\n",
    "    d[i] = sent.count(i)\n",
    "d"
   ]
  },
  {
   "cell_type": "markdown",
   "metadata": {},
   "source": [
    "# 파일\n",
    "## 실습1)\n",
    " - 파일에 있는 각각의 단어 수 구하기"
   ]
  },
  {
   "cell_type": "code",
   "execution_count": 17,
   "metadata": {},
   "outputs": [
    {
     "name": "stdout",
     "output_type": "stream",
     "text": [
      "first 1\n",
      "line 3\n",
      "second 1\n",
      "third 1\n"
     ]
    }
   ],
   "source": [
    "f = open(\"test.txt\", \"r\")\n",
    "line = f.read()\n",
    "line = line.replace('\\n',' ')\n",
    "line = line.split(' ')\n",
    "line.remove('')\n",
    "\n",
    "d = {}\n",
    "\n",
    "for i in line:\n",
    "    if i not in d:\n",
    "        d[i] = line.count(i)\n",
    "        print(i, d[i])\n",
    "f.close()"
   ]
  },
  {
   "cell_type": "markdown",
   "metadata": {},
   "source": [
    "## 실습2)\n",
    " - 파일명을 입력 받아, 해당 파일을 한 줄씩 읽어 파일의 내용을 모두 대문자로 출력하는 프로그램을 작성하시오."
   ]
  },
  {
   "cell_type": "code",
   "execution_count": 16,
   "metadata": {},
   "outputs": [
    {
     "name": "stdout",
     "output_type": "stream",
     "text": [
      "Enter a file name: test.txt\n",
      "FIRST LINE\n",
      "SECOND LINE\n",
      "THIRD LINE\n"
     ]
    }
   ],
   "source": [
    "filename = input(\"Enter a file name: \")\n",
    "f = open(filename, \"r\")\n",
    "\n",
    "for line in f:\n",
    "    print(line.upper(), end='')\n",
    "    \n",
    "f.close()"
   ]
  },
  {
   "cell_type": "markdown",
   "metadata": {},
   "source": [
    "## 실습4)\n",
    " - score.txt를 읽어서 학생들의 성적을 처리하여 그 결과를 report.txt로 출력하는 프로그램을 작성하시오."
   ]
  },
  {
   "cell_type": "code",
   "execution_count": 68,
   "metadata": {},
   "outputs": [],
   "source": [
    "read_f = open(\"score.txt\", \"r\")\n",
    "writ_f = open(\"report.txt\", \"w\")\n",
    "\n",
    "def avg_grade(line1,line2):\n",
    "    avg = ( int(line1)+int(line2) ) / 2\n",
    "    if avg >= 90:\n",
    "        return '(A)'\n",
    "    elif avg >= 80:\n",
    "        return '(B)'\n",
    "    elif avg >= 70:\n",
    "        return '(C)'\n",
    "    elif avg >= 60:\n",
    "        return '(D)'\n",
    "    else:\n",
    "        return '(F)'\n",
    "\n",
    "for line in read_f:\n",
    "    a,b,c = line.split()\n",
    "    line = line.rstrip('\\n').split(' ')\n",
    "    \n",
    "    avg = ( int(b)+int(c) ) / 2\n",
    "    \n",
    "    data = (a+\" \"+b+\" \"+c+\" \"+str(avg)+avg_grade(b,c)+\"\\n\")\n",
    "    writ_f.write(data)\n",
    "    \n",
    "read_f.close()\n",
    "writ_f.close()"
   ]
  },
  {
   "cell_type": "code",
   "execution_count": 70,
   "metadata": {},
   "outputs": [],
   "source": [
    "f = open(\"report.txt\", \"r\")\n",
    "read = f.readlines()\n",
    "f.close()"
   ]
  },
  {
   "cell_type": "code",
   "execution_count": 71,
   "metadata": {},
   "outputs": [
    {
     "data": {
      "text/plain": [
       "['201901 89 78 83.5(B)\\n',\n",
       " '201902 76 84 80.0(B)\\n',\n",
       " '201903 67 42 54.5(F)\\n',\n",
       " '201904 66 88 77.0(C)\\n',\n",
       " '201905 98 99 98.5(A)\\n']"
      ]
     },
     "execution_count": 71,
     "metadata": {},
     "output_type": "execute_result"
    }
   ],
   "source": [
    "read"
   ]
  },
  {
   "cell_type": "code",
   "execution_count": null,
   "metadata": {},
   "outputs": [],
   "source": []
  }
 ],
 "metadata": {
  "kernelspec": {
   "display_name": "Python 3",
   "language": "python",
   "name": "python3"
  },
  "language_info": {
   "codemirror_mode": {
    "name": "ipython",
    "version": 3
   },
   "file_extension": ".py",
   "mimetype": "text/x-python",
   "name": "python",
   "nbconvert_exporter": "python",
   "pygments_lexer": "ipython3",
   "version": "3.7.4"
  },
  "latex_envs": {
   "LaTeX_envs_menu_present": true,
   "autoclose": false,
   "autocomplete": true,
   "bibliofile": "biblio.bib",
   "cite_by": "apalike",
   "current_citInitial": 1,
   "eqLabelWithNumbers": true,
   "eqNumInitial": 1,
   "hotkeys": {
    "equation": "Ctrl-E",
    "itemize": "Ctrl-I"
   },
   "labels_anchors": false,
   "latex_user_defs": false,
   "report_style_numbering": false,
   "user_envs_cfg": false
  },
  "toc": {
   "base_numbering": 1,
   "nav_menu": {},
   "number_sections": true,
   "sideBar": true,
   "skip_h1_title": false,
   "title_cell": "Table of Contents",
   "title_sidebar": "Contents",
   "toc_cell": false,
   "toc_position": {},
   "toc_section_display": true,
   "toc_window_display": false
  },
  "varInspector": {
   "cols": {
    "lenName": 16,
    "lenType": 16,
    "lenVar": 40
   },
   "kernels_config": {
    "python": {
     "delete_cmd_postfix": "",
     "delete_cmd_prefix": "del ",
     "library": "var_list.py",
     "varRefreshCmd": "print(var_dic_list())"
    },
    "r": {
     "delete_cmd_postfix": ") ",
     "delete_cmd_prefix": "rm(",
     "library": "var_list.r",
     "varRefreshCmd": "cat(var_dic_list()) "
    }
   },
   "types_to_exclude": [
    "module",
    "function",
    "builtin_function_or_method",
    "instance",
    "_Feature"
   ],
   "window_display": false
  }
 },
 "nbformat": 4,
 "nbformat_minor": 2
}
