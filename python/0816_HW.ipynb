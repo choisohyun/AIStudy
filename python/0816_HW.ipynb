{
 "cells": [
  {
   "cell_type": "markdown",
   "metadata": {},
   "source": [
    "# set"
   ]
  },
  {
   "cell_type": "code",
   "execution_count": 11,
   "metadata": {},
   "outputs": [],
   "source": [
    "class Set:\n",
    "    \n",
    "    member = []\n",
    "    \n",
    "    def __init__(self, member=[]):\n",
    "        self.member=member      \n",
    "        \n",
    "    def append(self, a):\n",
    "        if a not in self.member:\n",
    "            self.member.append(a)\n",
    "    \n",
    "    def delete(self, a):\n",
    "        if a in self.member:\n",
    "            self.member.remove(a)\n",
    "    \n",
    "    def union(self, s2):\n",
    "        for i in s2.member:\n",
    "            if i not in self.member:\n",
    "                self.member.append(i)\n",
    "        return self.member\n",
    "    \n",
    "    def intersection(self, s2):\n",
    "        t = []\n",
    "        for i in self.member:\n",
    "            if i in s2.member:\n",
    "                t.append(i)\n",
    "        return t\n",
    "    \n",
    "    def difference(self, s2):\n",
    "        t = []\n",
    "        for i in self.member:\n",
    "            if i not in s2.member:\n",
    "                t.append(i)\n",
    "        return t\n",
    "    "
   ]
  },
  {
   "cell_type": "code",
   "execution_count": 12,
   "metadata": {},
   "outputs": [
    {
     "name": "stdout",
     "output_type": "stream",
     "text": [
      "[1, 2, 3, 4]\n"
     ]
    }
   ],
   "source": [
    "a = Set([1, 2, 3])\n",
    "b = Set([2, 3, 4])\n",
    "\n",
    "c = a.union(b)\n",
    "print(c)"
   ]
  },
  {
   "cell_type": "code",
   "execution_count": 13,
   "metadata": {},
   "outputs": [
    {
     "name": "stdout",
     "output_type": "stream",
     "text": [
      "[1]\n"
     ]
    }
   ],
   "source": [
    "a = Set([1, 2, 3])\n",
    "b = Set([2, 3, 4])\n",
    "\n",
    "d = a.difference(b)\n",
    "print(d)"
   ]
  },
  {
   "cell_type": "code",
   "execution_count": 14,
   "metadata": {},
   "outputs": [
    {
     "name": "stdout",
     "output_type": "stream",
     "text": [
      "[2, 3]\n"
     ]
    }
   ],
   "source": [
    "a = Set([1, 2, 3])\n",
    "b = Set([2, 3, 4])\n",
    "\n",
    "e = a.intersection(b)\n",
    "print(e)"
   ]
  },
  {
   "cell_type": "markdown",
   "metadata": {},
   "source": [
    "# people"
   ]
  },
  {
   "cell_type": "code",
   "execution_count": 15,
   "metadata": {},
   "outputs": [],
   "source": [
    "class Person:\n",
    "    \n",
    "    def __init__(self, _name,_age,_department):\n",
    "        self.name=_name\n",
    "        self.age=_age\n",
    "        self.department=_department\n",
    "        \n",
    "    def get_name(self):\n",
    "        return self.name\n",
    "    \n",
    "class Student(Person):\n",
    "   \n",
    "    def __init__(self,_name,_age,_department,_ID,_GPA):\n",
    "        Person.__init__(self,_name,_age,_department)\n",
    "        self._id=_ID\n",
    "        self.GPA=_GPA\n",
    "        \n",
    "    def reg_advisor(self,prof):\n",
    "        \n",
    "        self.advisor=prof.name\n",
    "    def print_info(self):\n",
    "        print(\"제 이름은 %s, 나이는 %d, 학과는 %s, 지도교수님은 %s 입니다.\" \n",
    "              %(self.name,self.age,self.department,self.advisor))\n",
    "\n",
    "class Professor(Person):\n",
    "    \n",
    "    def __init__(self, _name,_age,_department,_po,_lab):\n",
    "        Person.__init__(self,_name,_age,_department)\n",
    "        self.position=_po\n",
    "        self.laboratory=_lab\n",
    "        self.student=[]\n",
    "        \n",
    "    def reg_student(self,stu):\n",
    "        self.student.append(stu.name)\n",
    "        \n",
    "    def print_info(self):\n",
    "        print(\"제 이름은 %s, 나이는 %d, 학과는 %s, 지도 학생은 %s입니다.\" \n",
    "              %(self.name, self.age, self.department, self.student))"
   ]
  },
  {
   "cell_type": "code",
   "execution_count": 20,
   "metadata": {},
   "outputs": [
    {
     "name": "stdout",
     "output_type": "stream",
     "text": [
      "제 이름은 Kim, 나이는 30, 학과는 Computer, 지도교수님은 Lee 입니다.\n",
      "제 이름은 Lee, 나이는 22, 학과는 Computer, 지도교수님은 Lee 입니다.\n",
      "제 이름은 Lee, 나이는 55, 학과는 Computer, 지도 학생은 ['Kim', 'Lee']입니다.\n"
     ]
    }
   ],
   "source": [
    "Stu1 = Student('Kim', 30, 'Computer',20001234, 4.5)\n",
    "Stu2 = Student('Lee', 22, 'Computer',20101234, 0.5)\n",
    "prof1 = Professor('Lee', 55, 'Computer','Full', 'KLE') \n",
    "\n",
    "Stu1.reg_advisor(prof1)\n",
    "Stu2.reg_advisor(prof1)\n",
    "prof1.reg_student(Stu1)\n",
    "prof1.reg_student(Stu2) \n",
    "\n",
    "Stu1.print_info()\n",
    "Stu2.print_info()\n",
    "prof1.print_info()"
   ]
  },
  {
   "cell_type": "markdown",
   "metadata": {},
   "source": [
    "# and_op"
   ]
  },
  {
   "cell_type": "code",
   "execution_count": 21,
   "metadata": {},
   "outputs": [],
   "source": [
    "import numpy as np\n",
    "\n",
    "def f(a):\n",
    "    idx=np.argmax(a)\n",
    "    return a[idx]"
   ]
  },
  {
   "cell_type": "code",
   "execution_count": 22,
   "metadata": {},
   "outputs": [
    {
     "name": "stdout",
     "output_type": "stream",
     "text": [
      "0\n",
      "0\n",
      "0\n",
      "1\n"
     ]
    }
   ],
   "source": [
    "x1 = np.array([0,0])\n",
    "x2 = np.array([0,1])\n",
    "x3 = np.array([1,0])\n",
    "x4 = np.array([1,1])\n",
    "\n",
    "W=np.array([[1,1],[0,0]])\n",
    "b=np.array([-1,0])\n",
    "\n",
    "print(f(W.dot(x1)+b))\n",
    "print(f(W.dot(x2)+b))\n",
    "print(f(W.dot(x3)+b))\n",
    "print(f(W.dot(x4)+b))"
   ]
  },
  {
   "cell_type": "code",
   "execution_count": null,
   "metadata": {},
   "outputs": [],
   "source": []
  }
 ],
 "metadata": {
  "kernelspec": {
   "display_name": "Python 3",
   "language": "python",
   "name": "python3"
  },
  "language_info": {
   "codemirror_mode": {
    "name": "ipython",
    "version": 3
   },
   "file_extension": ".py",
   "mimetype": "text/x-python",
   "name": "python",
   "nbconvert_exporter": "python",
   "pygments_lexer": "ipython3",
   "version": "3.7.3"
  },
  "latex_envs": {
   "LaTeX_envs_menu_present": true,
   "autoclose": false,
   "autocomplete": true,
   "bibliofile": "biblio.bib",
   "cite_by": "apalike",
   "current_citInitial": 1,
   "eqLabelWithNumbers": true,
   "eqNumInitial": 1,
   "hotkeys": {
    "equation": "Ctrl-E",
    "itemize": "Ctrl-I"
   },
   "labels_anchors": false,
   "latex_user_defs": false,
   "report_style_numbering": false,
   "user_envs_cfg": false
  },
  "toc": {
   "base_numbering": 1,
   "nav_menu": {},
   "number_sections": true,
   "sideBar": true,
   "skip_h1_title": false,
   "title_cell": "Table of Contents",
   "title_sidebar": "Contents",
   "toc_cell": false,
   "toc_position": {},
   "toc_section_display": true,
   "toc_window_display": false
  },
  "varInspector": {
   "cols": {
    "lenName": 16,
    "lenType": 16,
    "lenVar": 40
   },
   "kernels_config": {
    "python": {
     "delete_cmd_postfix": "",
     "delete_cmd_prefix": "del ",
     "library": "var_list.py",
     "varRefreshCmd": "print(var_dic_list())"
    },
    "r": {
     "delete_cmd_postfix": ") ",
     "delete_cmd_prefix": "rm(",
     "library": "var_list.r",
     "varRefreshCmd": "cat(var_dic_list()) "
    }
   },
   "types_to_exclude": [
    "module",
    "function",
    "builtin_function_or_method",
    "instance",
    "_Feature"
   ],
   "window_display": false
  }
 },
 "nbformat": 4,
 "nbformat_minor": 2
}
