{
 "cells": [
  {
   "cell_type": "markdown",
   "metadata": {},
   "source": [
    "# 과제1 - 천 단위마다 쉼표 추가하는 함수 정의"
   ]
  },
  {
   "cell_type": "code",
   "execution_count": 37,
   "metadata": {},
   "outputs": [
    {
     "name": "stdout",
     "output_type": "stream",
     "text": [
      "1,234\n",
      "123,456,789,999\n",
      "12\n"
     ]
    }
   ],
   "source": [
    "# add_comma: 천 단위마다 쉼표를 추가하는 함수\n",
    "def add_comma(val):\n",
    "    com = str(val)\n",
    "    li = []\n",
    "    \n",
    "#     1000자리수가 없어질 때까지 반복\n",
    "    while val//(10**3) >= 1:\n",
    "        last = val%(10**3) # 1000으로 나눈 나머지 저장\n",
    "        val = val//(10**3) # 1000으로 나눈 몫 저장\n",
    "        li.append(last) # 리스트에 나머지 값 누적 저장\n",
    "        com = str(val) # 쉼표 붙이기 위한 타입 변경\n",
    "        \n",
    "    li.reverse()\n",
    "    for v in li: # 쉼표 추가\n",
    "        com += ','+str(v)\n",
    "        \n",
    "    return com\n",
    "\n",
    "def main():\n",
    "    com_add_1234 = add_comma(1234)\n",
    "    com_add_12345678 = add_comma(123456789999)\n",
    "    com_add_12 = add_comma(12)\n",
    "    \n",
    "    print(com_add_1234)\n",
    "    print(com_add_12345678)\n",
    "    print(com_add_12)\n",
    "    \n",
    "if __name__ == '__main__':\n",
    "    main()"
   ]
  },
  {
   "cell_type": "markdown",
   "metadata": {},
   "source": [
    "# 과제2 - 평면상 여러 점의 좌표를 입력받아, 평균과 분산을 구하는 함수 정의"
   ]
  },
  {
   "cell_type": "code",
   "execution_count": 140,
   "metadata": {},
   "outputs": [
    {
     "name": "stdout",
     "output_type": "stream",
     "text": [
      "평균: [0.5, 0.5], 분산: [0.16666666666666666, 0.16666666666666666]\n"
     ]
    }
   ],
   "source": [
    "def mean_var(*val):\n",
    "    m = []; var = []\n",
    "    nums = tuple(zip(*val)) # val을 묶고 튜플로 변환\n",
    "    \n",
    "    for i in range(len(nums)):\n",
    "        temp = []\n",
    "        mean = sum(nums[i])/len(nums[i]) # 평균 계산\n",
    "        \n",
    "        for j in range(len(val)): # 분산 계산\n",
    "            temp.append( (mean-nums[i][j])**2 )\n",
    "        \n",
    "            vari = sum( temp )/len(val)\n",
    "        \n",
    "        m.append( mean )\n",
    "        var.append( vari )\n",
    "    \n",
    "    return m,var\n",
    "\n",
    "def main():\n",
    "    v1 = (0,1)\n",
    "    v2 = (.5,.5)\n",
    "    v3 = (1,0)\n",
    "    \n",
    "    m, var = mean_var(v1,v2,v3)\n",
    "    print('평균: {}, 분산: {}'.format(m,var))\n",
    "    \n",
    "if __name__ == '__main__':\n",
    "    main()"
   ]
  },
  {
   "cell_type": "markdown",
   "metadata": {},
   "source": [
    "# 과제3 - 입력받은 단어열의 n-gram을 구해주는 함수 정의"
   ]
  },
  {
   "cell_type": "code",
   "execution_count": 58,
   "metadata": {},
   "outputs": [
    {
     "name": "stdout",
     "output_type": "stream",
     "text": [
      "['There', 'was', 'a', 'farmer', 'who', 'had', 'a', 'dog', '.']\n",
      "['There was', 'was a', 'a farmer', 'farmer who', 'who had', 'had a', 'a dog', 'dog .']\n"
     ]
    }
   ],
   "source": [
    "def tokenize(trg, N=1):\n",
    "    trg = trg.split(' ') # 문자열 나누기\n",
    "    new = []\n",
    "    \n",
    "    if N==1: # 한 단어씩 출력\n",
    "        return trg\n",
    "    else: # 사용자 지정 개수로 단어 묶음 출력\n",
    "        for i in range(len(trg)-1):다\n",
    "            temp = ' '.join(trg[i:i+N]) # 리스트를 하나의 원소로 묶음\n",
    "            new.append(temp)\n",
    "\n",
    "        return new\n",
    "\n",
    "def main():\n",
    "    a = \"There was a farmer who had a dog .\"\n",
    "    print(tokenize(a))\n",
    "    print(tokenize(a,2))\n",
    "\n",
    "if __name__ == '__main__':\n",
    "    main()"
   ]
  }
 ],
 "metadata": {
  "kernelspec": {
   "display_name": "Python 3",
   "language": "python",
   "name": "python3"
  },
  "language_info": {
   "codemirror_mode": {
    "name": "ipython",
    "version": 3
   },
   "file_extension": ".py",
   "mimetype": "text/x-python",
   "name": "python",
   "nbconvert_exporter": "python",
   "pygments_lexer": "ipython3",
   "version": "3.7.4"
  },
  "latex_envs": {
   "LaTeX_envs_menu_present": true,
   "autoclose": false,
   "autocomplete": true,
   "bibliofile": "biblio.bib",
   "cite_by": "apalike",
   "current_citInitial": 1,
   "eqLabelWithNumbers": true,
   "eqNumInitial": 1,
   "hotkeys": {
    "equation": "Ctrl-E",
    "itemize": "Ctrl-I"
   },
   "labels_anchors": false,
   "latex_user_defs": false,
   "report_style_numbering": false,
   "user_envs_cfg": false
  },
  "toc": {
   "base_numbering": 1,
   "nav_menu": {},
   "number_sections": true,
   "sideBar": true,
   "skip_h1_title": false,
   "title_cell": "Table of Contents",
   "title_sidebar": "Contents",
   "toc_cell": false,
   "toc_position": {},
   "toc_section_display": true,
   "toc_window_display": false
  },
  "varInspector": {
   "cols": {
    "lenName": 16,
    "lenType": 16,
    "lenVar": 40
   },
   "kernels_config": {
    "python": {
     "delete_cmd_postfix": "",
     "delete_cmd_prefix": "del ",
     "library": "var_list.py",
     "varRefreshCmd": "print(var_dic_list())"
    },
    "r": {
     "delete_cmd_postfix": ") ",
     "delete_cmd_prefix": "rm(",
     "library": "var_list.r",
     "varRefreshCmd": "cat(var_dic_list()) "
    }
   },
   "types_to_exclude": [
    "module",
    "function",
    "builtin_function_or_method",
    "instance",
    "_Feature"
   ],
   "window_display": false
  }
 },
 "nbformat": 4,
 "nbformat_minor": 2
}
