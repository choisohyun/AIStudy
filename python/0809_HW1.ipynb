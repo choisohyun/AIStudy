{
 "cells": [
  {
   "cell_type": "markdown",
   "metadata": {},
   "source": [
    "# 파이썬 기초 연습문제\n",
    " - 190809\n",
    "## 실습문제1"
   ]
  },
  {
   "cell_type": "code",
   "execution_count": 14,
   "metadata": {},
   "outputs": [],
   "source": [
    "# 한 라인에서 모든 결과값 표시\n",
    "from IPython.core.interactiveshell import InteractiveShell\n",
    "InteractiveShell.ast_node_interactivity = \"all\""
   ]
  },
  {
   "cell_type": "code",
   "execution_count": 72,
   "metadata": {},
   "outputs": [
    {
     "name": "stdout",
     "output_type": "stream",
     "text": [
      "화씨온도: 100\n",
      "100\n",
      "섭씨온도:  37.77777777777778\n"
     ]
    }
   ],
   "source": [
    "f = int(input(\"화씨온도: \"))\n",
    "c = (f - 32) * 5 / 9\n",
    "\n",
    "print(f)\n",
    "print(\"섭씨온도: \", c)"
   ]
  },
  {
   "cell_type": "markdown",
   "metadata": {},
   "source": [
    "## 실습문제2"
   ]
  },
  {
   "cell_type": "code",
   "execution_count": 6,
   "metadata": {},
   "outputs": [
    {
     "name": "stdout",
     "output_type": "stream",
     "text": [
      "투입한 돈: 5000\n",
      "물건값: 2700\n",
      "5000\n",
      "2700\n",
      "거스름돈:  2300\n",
      "500원짜리:  4\n",
      "100원짜리:  3\n"
     ]
    }
   ],
   "source": [
    "inMoney = int(input(\"투입한 돈: \"))\n",
    "price = int(input(\"물건값: \"))\n",
    "\n",
    "outMoney = inMoney - price\n",
    "coin500 = outMoney//500\n",
    "coin100 = coin100//100\n",
    "\n",
    "print(inMoney)\n",
    "print(price)\n",
    "print(\"거스름돈: \", outMoney)\n",
    "print(\"500원짜리: \", coin500)\n",
    "print(\"100원짜리: \", coin100)"
   ]
  },
  {
   "cell_type": "markdown",
   "metadata": {},
   "source": [
    "## 실습문제3"
   ]
  },
  {
   "cell_type": "code",
   "execution_count": 73,
   "metadata": {},
   "outputs": [
    {
     "name": "stdout",
     "output_type": "stream",
     "text": [
      "반지름을 입력하시오.: 5\n",
      "5.0\n",
      "원 둘레:  31.416\n",
      "원 넓이:  78.54\n"
     ]
    }
   ],
   "source": [
    "cir = float(input(\"반지름을 입력하시오.: \"))\n",
    "leng = 2 * 3.141592 * cir\n",
    "dept = 3.141592 * cir**2\n",
    "\n",
    "print(cir)\n",
    "print(\"원 둘레: \", round(leng,3))\n",
    "print(\"원 넓이: \", round(dept,3))"
   ]
  },
  {
   "cell_type": "markdown",
   "metadata": {},
   "source": [
    "## 실습문제4"
   ]
  },
  {
   "cell_type": "code",
   "execution_count": 36,
   "metadata": {},
   "outputs": [
    {
     "name": "stdout",
     "output_type": "stream",
     "text": [
      "한 문장을 입력하시오: python is fun!\n"
     ]
    },
    {
     "data": {
      "text/plain": [
       "['p', 'y', 't', 'h', 'o', 'n', ' ', 'i', 's', ' ', 'f', 'u', 'n', '!']"
      ]
     },
     "execution_count": 36,
     "metadata": {},
     "output_type": "execute_result"
    }
   ],
   "source": [
    "sentence = input(\"한 문장을 입력하시오: \")\n",
    "a = ','\n",
    "senJoin = a.join(sentence)\n",
    "senJoin.split(\",\")"
   ]
  },
  {
   "cell_type": "markdown",
   "metadata": {},
   "source": [
    " \n",
    "## 실습문제5"
   ]
  },
  {
   "cell_type": "code",
   "execution_count": 44,
   "metadata": {},
   "outputs": [
    {
     "name": "stdout",
     "output_type": "stream",
     "text": [
      "Enter two integers: 8 5\n",
      "8 + 5 = 13\n",
      "8 - 5 = 3\n",
      "8 * 5 = 40\n",
      "8 / 5 = 1.6\n",
      "8 % 5 = 3\n"
     ]
    }
   ],
   "source": [
    "numbers = input('Enter two integers: ')\n",
    "numbers = numbers.split()\n",
    "\n",
    "num1, num2 = map(int, numbers)\n",
    "\n",
    "print(num1,\"+\",num2,\"=\",num1 + num2)\n",
    "print(num1,\"-\",num2,\"=\",num1 - num2)\n",
    "print(num1,\"*\",num2,\"=\",num1 * num2)\n",
    "print(num1,\"/\",num2,\"=\",num1 / num2)\n",
    "print(num1,\"%\",num2,\"=\",num1 % num2)"
   ]
  },
  {
   "cell_type": "markdown",
   "metadata": {},
   "source": [
    "## 실습문제6"
   ]
  },
  {
   "cell_type": "code",
   "execution_count": 63,
   "metadata": {},
   "outputs": [
    {
     "name": "stdout",
     "output_type": "stream",
     "text": [
      "Enter two integers: 70 91\n",
      "The sum of 70 and 91 is 161\n",
      "The average of 70 and 91 is 80.5\n"
     ]
    }
   ],
   "source": [
    "numbers = input('Enter two integers: ')\n",
    "numbers = numbers.split()\n",
    "\n",
    "num1, num2 = map(int, numbers)\n",
    "\n",
    "sumnum = num1+num2\n",
    "avr = round((num1+num2)/len(numbers),1)\n",
    "\n",
    "print(\"The sum of {} and {} is {}\".format(num1, num2, sumnum))\n",
    "print(\"The average of {} and {} is {}\".format(num1, num2, avr))"
   ]
  },
  {
   "cell_type": "markdown",
   "metadata": {},
   "source": [
    "## 실습문제7"
   ]
  },
  {
   "cell_type": "code",
   "execution_count": 62,
   "metadata": {
    "scrolled": true
   },
   "outputs": [
    {
     "name": "stdout",
     "output_type": "stream",
     "text": [
      "날짜(연/월/일)입력: 2019/08/12\n",
      "['2019', '08', '12']\n",
      "입력한 날짜의 10년 후는 2029년 8월 12일\n"
     ]
    }
   ],
   "source": [
    "date = input(\"날짜(연/월/일)입력: \")\n",
    "date = date.split(\"/\")\n",
    "y, m, d = map(int, date)\n",
    "\n",
    "print(date)\n",
    "print(\"입력한 날짜의 10년 후는 {}년 {}월 {}일\".format( y+10, m, d ))"
   ]
  }
 ],
 "metadata": {
  "kernelspec": {
   "display_name": "Python 3",
   "language": "python",
   "name": "python3"
  },
  "language_info": {
   "codemirror_mode": {
    "name": "ipython",
    "version": 3
   },
   "file_extension": ".py",
   "mimetype": "text/x-python",
   "name": "python",
   "nbconvert_exporter": "python",
   "pygments_lexer": "ipython3",
   "version": "3.7.4"
  },
  "latex_envs": {
   "LaTeX_envs_menu_present": true,
   "autoclose": false,
   "autocomplete": true,
   "bibliofile": "biblio.bib",
   "cite_by": "apalike",
   "current_citInitial": 1,
   "eqLabelWithNumbers": true,
   "eqNumInitial": 1,
   "hotkeys": {
    "equation": "Ctrl-E",
    "itemize": "Ctrl-I"
   },
   "labels_anchors": false,
   "latex_user_defs": false,
   "report_style_numbering": false,
   "user_envs_cfg": false
  },
  "toc": {
   "base_numbering": 1,
   "nav_menu": {},
   "number_sections": true,
   "sideBar": true,
   "skip_h1_title": false,
   "title_cell": "Table of Contents",
   "title_sidebar": "Contents",
   "toc_cell": false,
   "toc_position": {},
   "toc_section_display": true,
   "toc_window_display": true
  },
  "varInspector": {
   "cols": {
    "lenName": 16,
    "lenType": 16,
    "lenVar": 40
   },
   "kernels_config": {
    "python": {
     "delete_cmd_postfix": "",
     "delete_cmd_prefix": "del ",
     "library": "var_list.py",
     "varRefreshCmd": "print(var_dic_list())"
    },
    "r": {
     "delete_cmd_postfix": ") ",
     "delete_cmd_prefix": "rm(",
     "library": "var_list.r",
     "varRefreshCmd": "cat(var_dic_list()) "
    }
   },
   "types_to_exclude": [
    "module",
    "function",
    "builtin_function_or_method",
    "instance",
    "_Feature"
   ],
   "window_display": false
  }
 },
 "nbformat": 4,
 "nbformat_minor": 2
}
