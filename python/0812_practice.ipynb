{
 "cells": [
  {
   "cell_type": "markdown",
   "metadata": {},
   "source": [
    "# 일상생활 문제 해결: 윤년(leap year)\n",
    " - 문제 분석하기\n",
    " - 윤년을 계산하는 방법 조사하기(치윤법)\n",
    "1. 기원 연수가 4로 나누어떨어지는 해는 우선 윤년으로 함\n",
    "2. 그 중에서 100으로 나누어 떨어지는 해는 평년으로 함\n",
    "3. 다만, 400으로 나누어 떨어지는 해는 다시 윤년으로 함"
   ]
  },
  {
   "cell_type": "code",
   "execution_count": 4,
   "metadata": {},
   "outputs": [
    {
     "name": "stdout",
     "output_type": "stream",
     "text": [
      "연도를 입력하시오.: 2000\n",
      "2000년은 윤년입니다\n"
     ]
    }
   ],
   "source": [
    "leapYear = int(input(\"연도를 입력하시오.: \"))\n",
    "\n",
    "if leapYear % 400 == 0:\n",
    "    print(\"{}년은 윤년입니다\".format(leapYear))\n",
    "elif leapYear % 100 == 0:\n",
    "    print(\"{}년은 평년입니다\".format(leapYear))\n",
    "elif leapYear % 4 == 0:\n",
    "    print(\"{}년은 윤년입니다\".format(leapYear))\n",
    "else:\n",
    "    print(\"{}년은 평년입니다\".format(leapYear))"
   ]
  },
  {
   "cell_type": "code",
   "execution_count": 6,
   "metadata": {},
   "outputs": [
    {
     "name": "stdout",
     "output_type": "stream",
     "text": [
      "연도를 입력하시오.: 2100\n",
      "2100년은 평년입니다\n"
     ]
    }
   ],
   "source": [
    "leapYear = int(input(\"연도를 입력하시오.: \"))\n",
    "\n",
    "if ((leapYear % 4 == 0) and (leapYear % 100 != 0) or (leapYear % 400 == 0)):\n",
    "    print(\"{}년은 윤년입니다\".format(leapYear))\n",
    "else:\n",
    "    print(\"{}년은 평년입니다\".format(leapYear))"
   ]
  },
  {
   "cell_type": "markdown",
   "metadata": {},
   "source": [
    "1. computational thinking\n",
    "2. data type\n",
    "3. dynamic typing(동적으로 타입을 정함)\n",
    "4. shell 환경 - 인터프리터 (컴파일 기법)\n",
    "5. 파이썬은 모든 게 class , 모든 게 다 객체 - 객체, 클래스 개념 알아야 함\n",
    "6. mutable(변경가능한): 리스트 딕셔너리 집합형\n",
    "    //immutable(변경불가능한): 수치값, 문자열, 튜플\n",
    " - 함수: 독립적으로 실행할 수 있는 단위//함수 호출 add(parameter매개변수)\n",
    " - divide,,\n",
    "7. 함수: 함수 변경 여부가 중요: 객체가 생성되고 함수 파라미터 등으로 전달될 때에도 변경이 가능한 객체와 불가능한 객체를 동일한 방식으로 관리\n",
    "8. 리스트: \n",
    "global, mutable,,,,,,,,,,,,,,\n",
    "시험 볼 때는 더 많이 찾아봐야함\n",
    "shadow copy, deep copy\n"
   ]
  },
  {
   "cell_type": "markdown",
   "metadata": {},
   "source": [
    "# 오후"
   ]
  },
  {
   "cell_type": "code",
   "execution_count": 7,
   "metadata": {},
   "outputs": [
    {
     "data": {
      "text/plain": [
       "['red']"
      ]
     },
     "execution_count": 7,
     "metadata": {},
     "output_type": "execute_result"
    }
   ],
   "source": [
    "colors = []\n",
    "colors.append('red')\n",
    "colors"
   ]
  },
  {
   "cell_type": "code",
   "execution_count": 8,
   "metadata": {},
   "outputs": [
    {
     "data": {
      "text/plain": [
       "['red', 'green', 'blue']"
      ]
     },
     "execution_count": 8,
     "metadata": {},
     "output_type": "execute_result"
    }
   ],
   "source": [
    "colors.append('green')\n",
    "colors.append('blue')\n",
    "colors"
   ]
  },
  {
   "cell_type": "code",
   "execution_count": 9,
   "metadata": {},
   "outputs": [
    {
     "data": {
      "text/plain": [
       "['red', 'green', 'blue', 'red']"
      ]
     },
     "execution_count": 9,
     "metadata": {},
     "output_type": "execute_result"
    }
   ],
   "source": [
    "colors.append('red')\n",
    "colors"
   ]
  },
  {
   "cell_type": "code",
   "execution_count": 10,
   "metadata": {},
   "outputs": [
    {
     "data": {
      "text/plain": [
       "['green', 'blue', 'red']"
      ]
     },
     "execution_count": 10,
     "metadata": {},
     "output_type": "execute_result"
    }
   ],
   "source": [
    "colors.remove('red')\n",
    "colors"
   ]
  },
  {
   "cell_type": "code",
   "execution_count": 13,
   "metadata": {},
   "outputs": [
    {
     "data": {
      "text/plain": [
       "[1, 3, 5, 7, 8, 9]"
      ]
     },
     "execution_count": 13,
     "metadata": {},
     "output_type": "execute_result"
    }
   ],
   "source": [
    "a = [9,1,3,5,8,7]\n",
    "a.sort()\n",
    "a"
   ]
  },
  {
   "cell_type": "code",
   "execution_count": 14,
   "metadata": {},
   "outputs": [
    {
     "data": {
      "text/plain": [
       "[9, 8, 7, 5, 3, 1]"
      ]
     },
     "execution_count": 14,
     "metadata": {},
     "output_type": "execute_result"
    }
   ],
   "source": [
    "a.sort(reverse=True)\n",
    "a"
   ]
  },
  {
   "cell_type": "code",
   "execution_count": 21,
   "metadata": {},
   "outputs": [
    {
     "name": "stdout",
     "output_type": "stream",
     "text": [
      "Enter a number: 7\n",
      "Enter a number: 8\n",
      "Enter a number: 5\n",
      "Enter a number: 13\n",
      "Enter a number: done\n",
      "[7.0, 8.0, 5.0, 13.0]\n",
      "Average:  8.25\n",
      "Maximum:  13.0\n",
      "Minimum:  5.0\n"
     ]
    }
   ],
   "source": [
    "num = input(\"Enter a number: \"); li = []\n",
    "\n",
    "while num != \"done\":\n",
    "    li.append(num)\n",
    "    num = input(\"Enter a number: \")\n",
    "    \n",
    "li = list(map(float, li))\n",
    "    \n",
    "print(li)\n",
    "print(\"Average: \", sum(li)/len(li))\n",
    "print(\"Maximum: \", max(li))\n",
    "print(\"Minimum: \", min(li))"
   ]
  },
  {
   "cell_type": "code",
   "execution_count": 22,
   "metadata": {},
   "outputs": [
    {
     "data": {
      "text/plain": [
       "set"
      ]
     },
     "execution_count": 22,
     "metadata": {},
     "output_type": "execute_result"
    }
   ],
   "source": [
    "s = set()\n",
    "type(s)"
   ]
  },
  {
   "cell_type": "code",
   "execution_count": 23,
   "metadata": {},
   "outputs": [
    {
     "data": {
      "text/plain": [
       "dict"
      ]
     },
     "execution_count": 23,
     "metadata": {},
     "output_type": "execute_result"
    }
   ],
   "source": [
    "s = {}\n",
    "type(s)"
   ]
  },
  {
   "cell_type": "code",
   "execution_count": 24,
   "metadata": {},
   "outputs": [
    {
     "data": {
      "text/plain": [
       "{'H', 'e', 'l', 'o'}"
      ]
     },
     "execution_count": 24,
     "metadata": {},
     "output_type": "execute_result"
    }
   ],
   "source": [
    "word_list = list(\"Hello\"*2)\n",
    "s3 = set(word_list)\n",
    "s3"
   ]
  },
  {
   "cell_type": "code",
   "execution_count": 25,
   "metadata": {},
   "outputs": [
    {
     "data": {
      "text/plain": [
       "['H', 'e', 'l', 'l', 'o', 'H', 'e', 'l', 'l', 'o']"
      ]
     },
     "execution_count": 25,
     "metadata": {},
     "output_type": "execute_result"
    }
   ],
   "source": [
    "word_list"
   ]
  },
  {
   "cell_type": "code",
   "execution_count": 26,
   "metadata": {},
   "outputs": [
    {
     "data": {
      "text/plain": [
       "{'kim': 1, 'park': 2}"
      ]
     },
     "execution_count": 26,
     "metadata": {},
     "output_type": "execute_result"
    }
   ],
   "source": [
    "dic = {} # dict()\n",
    "dic['kim'] = 1\n",
    "dic['park'] = 2\n",
    "dic"
   ]
  },
  {
   "cell_type": "code",
   "execution_count": 27,
   "metadata": {},
   "outputs": [
    {
     "data": {
      "text/plain": [
       "{'kim': 3, 'park': 2}"
      ]
     },
     "execution_count": 27,
     "metadata": {},
     "output_type": "execute_result"
    }
   ],
   "source": [
    "dic['kim'] = 3\n",
    "dic"
   ]
  },
  {
   "cell_type": "code",
   "execution_count": 28,
   "metadata": {},
   "outputs": [
    {
     "data": {
      "text/plain": [
       "{'kim': 3, 'park': 2, 'youn': 1}"
      ]
     },
     "execution_count": 28,
     "metadata": {},
     "output_type": "execute_result"
    }
   ],
   "source": [
    "dic['youn'] = 1\n",
    "dic"
   ]
  },
  {
   "cell_type": "code",
   "execution_count": 29,
   "metadata": {},
   "outputs": [
    {
     "data": {
      "text/plain": [
       "dict_keys(['kim', 'park', 'youn'])"
      ]
     },
     "execution_count": 29,
     "metadata": {},
     "output_type": "execute_result"
    }
   ],
   "source": [
    "dic.keys()"
   ]
  },
  {
   "cell_type": "code",
   "execution_count": 30,
   "metadata": {},
   "outputs": [
    {
     "data": {
      "text/plain": [
       "dict_values([3, 2, 1])"
      ]
     },
     "execution_count": 30,
     "metadata": {},
     "output_type": "execute_result"
    }
   ],
   "source": [
    "dic.values()"
   ]
  },
  {
   "cell_type": "code",
   "execution_count": 31,
   "metadata": {},
   "outputs": [
    {
     "data": {
      "text/plain": [
       "True"
      ]
     },
     "execution_count": 31,
     "metadata": {},
     "output_type": "execute_result"
    }
   ],
   "source": [
    "'kim' in dic"
   ]
  },
  {
   "cell_type": "code",
   "execution_count": 36,
   "metadata": {},
   "outputs": [
    {
     "name": "stdout",
     "output_type": "stream",
     "text": [
      "1 2 10 "
     ]
    }
   ],
   "source": [
    "d = {'youn': 1, 'park': 2, 'kim': 10}\n",
    "for i in d.values():\n",
    "    print(i,end=' ')"
   ]
  },
  {
   "cell_type": "code",
   "execution_count": 40,
   "metadata": {},
   "outputs": [
    {
     "name": "stdout",
     "output_type": "stream",
     "text": [
      "youn\n",
      "1\n",
      "park\n",
      "2\n",
      "kim\n",
      "10\n"
     ]
    }
   ],
   "source": [
    "d = {'youn': 1, 'park': 2, 'kim': 10}\n",
    "for i, j in d.items():\n",
    "    print(i)\n",
    "    print(j)"
   ]
  },
  {
   "cell_type": "code",
   "execution_count": null,
   "metadata": {},
   "outputs": [],
   "source": [
    "d = { 'one':1, 'two':2, 'three':3, 'four':4, 'five':5}"
   ]
  },
  {
   "cell_type": "code",
   "execution_count": 9,
   "metadata": {
    "scrolled": true
   },
   "outputs": [
    {
     "name": "stdout",
     "output_type": "stream",
     "text": [
      "Enter a sentence: red apple\n"
     ]
    },
    {
     "data": {
      "text/plain": [
       "{'r': 1, 'e': 2, 'd': 1, ' ': 1, 'a': 1, 'p': 2, 'l': 1}"
      ]
     },
     "execution_count": 9,
     "metadata": {},
     "output_type": "execute_result"
    }
   ],
   "source": [
    "sent = input(\"Enter a sentence: \")\n",
    "d = {}\n",
    "\n",
    "for i in sent:\n",
    "    if i not in d:\n",
    "        d[i] = sent.count(i)\n",
    "d"
   ]
  },
  {
   "cell_type": "code",
   "execution_count": 7,
   "metadata": {},
   "outputs": [
    {
     "data": {
      "text/plain": [
       "'r'"
      ]
     },
     "execution_count": 7,
     "metadata": {},
     "output_type": "execute_result"
    }
   ],
   "source": [
    "a = max(d.keys())\n",
    "a"
   ]
  },
  {
   "cell_type": "code",
   "execution_count": 97,
   "metadata": {},
   "outputs": [
    {
     "name": "stdout",
     "output_type": "stream",
     "text": [
      "Enter a sentence: pytlksdjflksd\n"
     ]
    },
    {
     "data": {
      "text/plain": [
       "{'d', 'f', 'j', 'k', 'l', 'p', 's', 't', 'y'}"
      ]
     },
     "execution_count": 97,
     "metadata": {},
     "output_type": "execute_result"
    }
   ],
   "source": [
    "sent = input(\"Enter a sentence: \")\n",
    "d = {}\n",
    "\n",
    "for i in set(sent):\n",
    "    d[i] = sent.count(i)\n",
    "d"
   ]
  },
  {
   "cell_type": "code",
   "execution_count": 51,
   "metadata": {},
   "outputs": [
    {
     "name": "stdout",
     "output_type": "stream",
     "text": [
      "Enter a sentence: Python is fun!\n"
     ]
    },
    {
     "data": {
      "text/plain": [
       "{'P': 1,\n",
       " 'y': 1,\n",
       " 't': 1,\n",
       " 'h': 1,\n",
       " 'o': 1,\n",
       " 'n': 2,\n",
       " ' ': 2,\n",
       " 'i': 1,\n",
       " 's': 1,\n",
       " 'f': 1,\n",
       " 'u': 1,\n",
       " '!': 1}"
      ]
     },
     "execution_count": 51,
     "metadata": {},
     "output_type": "execute_result"
    }
   ],
   "source": [
    "sent = input(\"Enter a sentence: \")\n",
    "d = {}; count = 1\n",
    "\n",
    "for i in sent:\n",
    "    d[i] = sent.count(i)\n",
    "d"
   ]
  },
  {
   "cell_type": "code",
   "execution_count": 53,
   "metadata": {},
   "outputs": [],
   "source": [
    "f = open(\"new.txt\", \"w\")\n",
    "\n",
    "for i in range(1,6):\n",
    "    data = \"%d line\\n\" % i\n",
    "    f.write(data)\n",
    "\n",
    "\n",
    "f.close()"
   ]
  },
  {
   "cell_type": "code",
   "execution_count": 57,
   "metadata": {},
   "outputs": [
    {
     "name": "stdout",
     "output_type": "stream",
     "text": [
      "['1 line\\n', '2 line\\n', '3 line\\n', '4 line\\n', '5 line\\n']"
     ]
    }
   ],
   "source": [
    "f = open(\"new.txt\", \"r\")\n",
    "\n",
    "line = f.readlines()\n",
    "print(line, end='')\n",
    "\n",
    "f.close()"
   ]
  },
  {
   "cell_type": "code",
   "execution_count": 58,
   "metadata": {},
   "outputs": [
    {
     "name": "stdout",
     "output_type": "stream",
     "text": [
      "1 line\n",
      "\n",
      "2 line\n",
      "\n",
      "3 line\n",
      "\n",
      "4 line\n",
      "\n",
      "5 line\n",
      "\n"
     ]
    }
   ],
   "source": [
    "f = open(\"new.txt\", \"r\")\n",
    "\n",
    "for line in f:\n",
    "    print(line)\n",
    "    \n",
    "f.close()"
   ]
  },
  {
   "cell_type": "code",
   "execution_count": 59,
   "metadata": {},
   "outputs": [],
   "source": [
    "f = open(\"new.txt\", \"a\")\n",
    "\n",
    "for i in range(6,11):\n",
    "    data = \"%d line\\n\" % i\n",
    "    f.write(data)\n",
    "\n",
    "f.close()"
   ]
  },
  {
   "cell_type": "code",
   "execution_count": 109,
   "metadata": {},
   "outputs": [
    {
     "name": "stdout",
     "output_type": "stream",
     "text": [
      "first 1\n",
      "line 3\n",
      "second 1\n",
      "third 1\n"
     ]
    }
   ],
   "source": [
    "f = open(\"test.txt\", \"r\")\n",
    "line = f.read()\n",
    "line = line.replace('\\n',' ')\n",
    "line = line.split(' ')\n",
    "line.remove('')\n",
    "\n",
    "d = {}\n",
    "\n",
    "for i in line:\n",
    "    if i not in d:\n",
    "        d[i] = line.count(i)\n",
    "        print(i, d[i])\n"
   ]
  },
  {
   "cell_type": "code",
   "execution_count": 107,
   "metadata": {},
   "outputs": [
    {
     "name": "stdout",
     "output_type": "stream",
     "text": [
      "line 3\n",
      "first 1\n",
      "second 1\n",
      "third 1\n"
     ]
    }
   ],
   "source": [
    "f = open(\"test.txt\", \"r\")\n",
    "line = f.read()\n",
    "line = line.replace('\\n',' ')\n",
    "line = line.split(' ')\n",
    "line.remove('')\n",
    "\n",
    "d = {}\n",
    "\n",
    "for i in set(line):\n",
    "    d[i] = line.count(i)\n",
    "    print(i, d[i])"
   ]
  },
  {
   "cell_type": "code",
   "execution_count": 126,
   "metadata": {},
   "outputs": [
    {
     "name": "stdout",
     "output_type": "stream",
     "text": [
      "Enter a file name: test.txt\n",
      "FIRST LINE\n",
      "\n",
      "SECOND LINE\n",
      "\n",
      "THIRD LINE\n",
      "\n"
     ]
    }
   ],
   "source": [
    "filename = input(\"Enter a file name: \")\n",
    "f = open(filename, \"r\")\n",
    "line = f.readlines()\n",
    "\n",
    "for i in line:\n",
    "    print(i.upper())"
   ]
  },
  {
   "cell_type": "code",
   "execution_count": 94,
   "metadata": {},
   "outputs": [],
   "source": [
    "def my_len(word):\n",
    "    length = 0\n",
    "    \n",
    "    for i in word:\n",
    "        length += 1\n",
    "    \n",
    "    return length"
   ]
  },
  {
   "cell_type": "code",
   "execution_count": 95,
   "metadata": {},
   "outputs": [
    {
     "name": "stdout",
     "output_type": "stream",
     "text": [
      "6 11\n",
      "6 11\n"
     ]
    }
   ],
   "source": [
    "a = [5,5,6,7,8,3]\n",
    "b = 'I am a boy.'\n",
    "print(len(a), len(b))\n",
    "print(my_len(a), my_len(b))"
   ]
  },
  {
   "cell_type": "code",
   "execution_count": 100,
   "metadata": {},
   "outputs": [],
   "source": [
    "def add(a, b):\n",
    "    return a+b\n",
    "def sub(a, b):\n",
    "    return a-b\n",
    "def mul(a,b):\n",
    "    return a*b\n",
    "def div(a,b):\n",
    "    return a/b"
   ]
  },
  {
   "cell_type": "code",
   "execution_count": 101,
   "metadata": {},
   "outputs": [
    {
     "name": "stdout",
     "output_type": "stream",
     "text": [
      "3 -1 2 0.5\n"
     ]
    }
   ],
   "source": [
    "a=1;b=2\n",
    "\n",
    "c=add(a,b);d=sub(a,b);e=mul(a,b);f=div(a,b)\n",
    "\n",
    "print(c,d,e,f)"
   ]
  },
  {
   "cell_type": "code",
   "execution_count": 127,
   "metadata": {},
   "outputs": [],
   "source": [
    "def factorial(num):\n",
    "    fin = 1\n",
    "    for i in range(1,num+1):\n",
    "        fin *= i\n",
    "    return fin"
   ]
  },
  {
   "cell_type": "code",
   "execution_count": 129,
   "metadata": {},
   "outputs": [
    {
     "name": "stdout",
     "output_type": "stream",
     "text": [
      "6\n",
      "120\n",
      "40320\n",
      "1\n"
     ]
    }
   ],
   "source": [
    "print(factorial(3))\n",
    "print(factorial(5))\n",
    "print(factorial(8))\n",
    "print(factorial(1))\n"
   ]
  },
  {
   "cell_type": "code",
   "execution_count": 130,
   "metadata": {},
   "outputs": [
    {
     "name": "stdout",
     "output_type": "stream",
     "text": [
      "[2, 3]\n",
      "[0, 1]\n"
     ]
    }
   ],
   "source": [
    "def spam(eggs):\n",
    "    eggs.append(1)\n",
    "    eggs = [2,3]\n",
    "    print(eggs)\n",
    "\n",
    "ham = [0]\n",
    "spam(ham)\n",
    "print(ham)"
   ]
  },
  {
   "cell_type": "code",
   "execution_count": null,
   "metadata": {},
   "outputs": [],
   "source": []
  }
 ],
 "metadata": {
  "kernelspec": {
   "display_name": "Python 3",
   "language": "python",
   "name": "python3"
  },
  "language_info": {
   "codemirror_mode": {
    "name": "ipython",
    "version": 3
   },
   "file_extension": ".py",
   "mimetype": "text/x-python",
   "name": "python",
   "nbconvert_exporter": "python",
   "pygments_lexer": "ipython3",
   "version": "3.7.4"
  },
  "latex_envs": {
   "LaTeX_envs_menu_present": true,
   "autoclose": false,
   "autocomplete": true,
   "bibliofile": "biblio.bib",
   "cite_by": "apalike",
   "current_citInitial": 1,
   "eqLabelWithNumbers": true,
   "eqNumInitial": 1,
   "hotkeys": {
    "equation": "Ctrl-E",
    "itemize": "Ctrl-I"
   },
   "labels_anchors": false,
   "latex_user_defs": false,
   "report_style_numbering": false,
   "user_envs_cfg": false
  },
  "toc": {
   "base_numbering": 1,
   "nav_menu": {},
   "number_sections": true,
   "sideBar": true,
   "skip_h1_title": false,
   "title_cell": "Table of Contents",
   "title_sidebar": "Contents",
   "toc_cell": false,
   "toc_position": {},
   "toc_section_display": true,
   "toc_window_display": false
  },
  "varInspector": {
   "cols": {
    "lenName": 16,
    "lenType": 16,
    "lenVar": 40
   },
   "kernels_config": {
    "python": {
     "delete_cmd_postfix": "",
     "delete_cmd_prefix": "del ",
     "library": "var_list.py",
     "varRefreshCmd": "print(var_dic_list())"
    },
    "r": {
     "delete_cmd_postfix": ") ",
     "delete_cmd_prefix": "rm(",
     "library": "var_list.r",
     "varRefreshCmd": "cat(var_dic_list()) "
    }
   },
   "types_to_exclude": [
    "module",
    "function",
    "builtin_function_or_method",
    "instance",
    "_Feature"
   ],
   "window_display": false
  }
 },
 "nbformat": 4,
 "nbformat_minor": 2
}
